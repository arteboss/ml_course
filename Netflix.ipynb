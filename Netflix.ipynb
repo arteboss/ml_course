{
 "cells": [
  {
   "cell_type": "code",
   "execution_count": null,
   "source": [
    "import numpy as np              # Массивы (матрицы, векторы, линейная алгебра)\r\n",
    "import matplotlib.pyplot as plt # Научная графика\r\n",
    "%matplotlib inline \r\n",
    "    # Говорим jupyter'у, чтобы весь графический вывод был в браузере, а не в отдельном окне\r\n",
    "import pandas as pd             # Таблицы и временные ряды (dataframe, series)\r\n",
    "import seaborn as sns           # Еще больше красивой графики для визуализации данных\r\n",
    "import sklearn "
   ],
   "outputs": [],
   "metadata": {}
  },
  {
   "cell_type": "code",
   "execution_count": null,
   "source": [
    "url = \"https://www.kaggle.com/ashishgup/netflix-rotten-tomatoes-metacritic-imdb?select=netflix-rotten-tomatoes-metacritic-imdb.csv\"\r\n",
    "data_raw = pd.read_csv(url)"
   ],
   "outputs": [],
   "metadata": {}
  },
  {
   "cell_type": "code",
   "execution_count": null,
   "source": [
    "data_raw.shape"
   ],
   "outputs": [],
   "metadata": {}
  }
 ],
 "metadata": {
  "orig_nbformat": 4,
  "language_info": {
   "name": "python",
   "version": "3.9.1",
   "mimetype": "text/x-python",
   "codemirror_mode": {
    "name": "ipython",
    "version": 3
   },
   "pygments_lexer": "ipython3",
   "nbconvert_exporter": "python",
   "file_extension": ".py"
  },
  "kernelspec": {
   "name": "python3",
   "display_name": "Python 3.9.1 64-bit"
  },
  "interpreter": {
   "hash": "63fd5069d213b44bf678585dea6b12cceca9941eaf7f819626cde1f2670de90d"
  }
 },
 "nbformat": 4,
 "nbformat_minor": 2
}